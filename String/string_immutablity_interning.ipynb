{
 "cells": [
  {
   "cell_type": "code",
   "execution_count": 1,
   "id": "052dee59",
   "metadata": {},
   "outputs": [],
   "source": [
    "s = \"sudhanshu\""
   ]
  },
  {
   "cell_type": "code",
   "execution_count": 2,
   "id": "7da36b3f",
   "metadata": {},
   "outputs": [
    {
     "data": {
      "text/plain": [
       "2369431757168"
      ]
     },
     "execution_count": 2,
     "metadata": {},
     "output_type": "execute_result"
    }
   ],
   "source": [
    "id(s)"
   ]
  },
  {
   "cell_type": "code",
   "execution_count": 5,
   "id": "ff6ef44f",
   "metadata": {},
   "outputs": [],
   "source": [
    "modify = s + \" \" +\"kumar\""
   ]
  },
  {
   "cell_type": "code",
   "execution_count": 6,
   "id": "cc9b7e5f",
   "metadata": {},
   "outputs": [
    {
     "data": {
      "text/plain": [
       "'sudhanshu kumar'"
      ]
     },
     "execution_count": 6,
     "metadata": {},
     "output_type": "execute_result"
    }
   ],
   "source": [
    "modify"
   ]
  },
  {
   "cell_type": "code",
   "execution_count": 7,
   "id": "71df365a",
   "metadata": {},
   "outputs": [
    {
     "data": {
      "text/plain": [
       "2369432091760"
      ]
     },
     "execution_count": 7,
     "metadata": {},
     "output_type": "execute_result"
    }
   ],
   "source": [
    "id(modify)"
   ]
  },
  {
   "cell_type": "code",
   "execution_count": 8,
   "id": "0dfbd0d5",
   "metadata": {},
   "outputs": [],
   "source": [
    "s = s + \"kumar\""
   ]
  },
  {
   "cell_type": "code",
   "execution_count": 9,
   "id": "5ff6522a",
   "metadata": {},
   "outputs": [
    {
     "data": {
      "text/plain": [
       "2369432384688"
      ]
     },
     "execution_count": 9,
     "metadata": {},
     "output_type": "execute_result"
    }
   ],
   "source": [
    "id(s)"
   ]
  },
  {
   "cell_type": "code",
   "execution_count": 10,
   "id": "6d08a0b6",
   "metadata": {},
   "outputs": [
    {
     "data": {
      "text/plain": [
       "2369431756144"
      ]
     },
     "execution_count": 10,
     "metadata": {},
     "output_type": "execute_result"
    }
   ],
   "source": [
    "s = \"euron\"\n",
    "id(s)"
   ]
  },
  {
   "cell_type": "code",
   "execution_count": 11,
   "id": "101cdc80",
   "metadata": {},
   "outputs": [
    {
     "ename": "TypeError",
     "evalue": "'str' object does not support item assignment",
     "output_type": "error",
     "traceback": [
      "\u001b[1;31m---------------------------------------------------------------------------\u001b[0m",
      "\u001b[1;31mTypeError\u001b[0m                                 Traceback (most recent call last)",
      "Cell \u001b[1;32mIn[11], line 1\u001b[0m\n\u001b[1;32m----> 1\u001b[0m \u001b[43ms\u001b[49m\u001b[43m[\u001b[49m\u001b[38;5;241;43m0\u001b[39;49m\u001b[43m]\u001b[49m \u001b[38;5;241m=\u001b[39m \u001b[38;5;124m\"\u001b[39m\u001b[38;5;124ms\u001b[39m\u001b[38;5;124m\"\u001b[39m\n",
      "\u001b[1;31mTypeError\u001b[0m: 'str' object does not support item assignment"
     ]
    }
   ],
   "source": [
    "s[0] = \"s\""
   ]
  },
  {
   "cell_type": "code",
   "execution_count": 12,
   "id": "7e07ec72",
   "metadata": {},
   "outputs": [
    {
     "data": {
      "text/plain": [
       "2369432124208"
      ]
     },
     "execution_count": 12,
     "metadata": {},
     "output_type": "execute_result"
    }
   ],
   "source": [
    "s = \"suron\"\n",
    "id(s)"
   ]
  },
  {
   "cell_type": "code",
   "execution_count": 13,
   "id": "e35ca2c5",
   "metadata": {},
   "outputs": [],
   "source": [
    "a = \"euron\"\n",
    "b = \"euron\"\n"
   ]
  },
  {
   "cell_type": "code",
   "execution_count": 14,
   "id": "2f9f9f13",
   "metadata": {},
   "outputs": [
    {
     "data": {
      "text/plain": [
       "2369436918640"
      ]
     },
     "execution_count": 14,
     "metadata": {},
     "output_type": "execute_result"
    }
   ],
   "source": [
    "id(a)"
   ]
  },
  {
   "cell_type": "code",
   "execution_count": 15,
   "id": "71297551",
   "metadata": {},
   "outputs": [
    {
     "data": {
      "text/plain": [
       "2369436918640"
      ]
     },
     "execution_count": 15,
     "metadata": {},
     "output_type": "execute_result"
    }
   ],
   "source": [
    "id(b)"
   ]
  },
  {
   "cell_type": "code",
   "execution_count": 16,
   "id": "ae17221a",
   "metadata": {},
   "outputs": [
    {
     "data": {
      "text/plain": [
       "'sudhanshu'"
      ]
     },
     "execution_count": 16,
     "metadata": {},
     "output_type": "execute_result"
    }
   ],
   "source": [
    "c = \"sudh\" + \"anshu\"\n",
    "c"
   ]
  },
  {
   "cell_type": "code",
   "execution_count": 17,
   "id": "209ce265",
   "metadata": {},
   "outputs": [
    {
     "data": {
      "text/plain": [
       "'sudhanshu'"
      ]
     },
     "execution_count": 17,
     "metadata": {},
     "output_type": "execute_result"
    }
   ],
   "source": [
    "d = \"sudhanshu\"\n",
    "d"
   ]
  },
  {
   "cell_type": "code",
   "execution_count": 18,
   "id": "a2870a9a",
   "metadata": {},
   "outputs": [
    {
     "data": {
      "text/plain": [
       "2369436911664"
      ]
     },
     "execution_count": 18,
     "metadata": {},
     "output_type": "execute_result"
    }
   ],
   "source": [
    "id(c)"
   ]
  },
  {
   "cell_type": "code",
   "execution_count": 19,
   "id": "af00dfa7",
   "metadata": {},
   "outputs": [
    {
     "data": {
      "text/plain": [
       "2369436911664"
      ]
     },
     "execution_count": 19,
     "metadata": {},
     "output_type": "execute_result"
    }
   ],
   "source": [
    "id(d)"
   ]
  },
  {
   "cell_type": "code",
   "execution_count": 20,
   "id": "dfa509e3",
   "metadata": {},
   "outputs": [
    {
     "name": "stdout",
     "output_type": "stream",
     "text": [
      "The End\n"
     ]
    }
   ],
   "source": [
    "print(\"The End\")"
   ]
  }
 ],
 "metadata": {
  "kernelspec": {
   "display_name": "Python 3",
   "language": "python",
   "name": "python3"
  },
  "language_info": {
   "codemirror_mode": {
    "name": "ipython",
    "version": 3
   },
   "file_extension": ".py",
   "mimetype": "text/x-python",
   "name": "python",
   "nbconvert_exporter": "python",
   "pygments_lexer": "ipython3",
   "version": "3.10.0"
  }
 },
 "nbformat": 4,
 "nbformat_minor": 5
}
