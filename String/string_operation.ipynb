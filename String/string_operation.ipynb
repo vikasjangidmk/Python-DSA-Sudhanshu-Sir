{
 "cells": [
  {
   "cell_type": "code",
   "execution_count": 1,
   "id": "8084ce94",
   "metadata": {},
   "outputs": [
    {
     "name": "stdout",
     "output_type": "stream",
     "text": [
      "my name is sudhanshu \n",
      "i use to teach \n",
      "data\n"
     ]
    }
   ],
   "source": [
    "print(\"my name is sudhanshu \\ni use to teach \\ndata\")"
   ]
  },
  {
   "cell_type": "code",
   "execution_count": 2,
   "id": "ae933071",
   "metadata": {},
   "outputs": [
    {
     "name": "stdout",
     "output_type": "stream",
     "text": [
      "my name is sudhanshu \ti use to teach \tdata\n"
     ]
    }
   ],
   "source": [
    "print(\"my name is sudhanshu \\ti use to teach \\tdata\")"
   ]
  },
  {
   "cell_type": "code",
   "execution_count": 3,
   "id": "3a44f181",
   "metadata": {},
   "outputs": [
    {
     "name": "stdout",
     "output_type": "stream",
     "text": [
      "\\\n"
     ]
    }
   ],
   "source": [
    "print(\"\\\\\")"
   ]
  },
  {
   "cell_type": "code",
   "execution_count": 4,
   "id": "849b5758",
   "metadata": {},
   "outputs": [
    {
     "ename": "SyntaxError",
     "evalue": "(unicode error) 'unicodeescape' codec can't decode bytes in position 2-3: truncated \\UXXXXXXXX escape (2517376580.py, line 1)",
     "output_type": "error",
     "traceback": [
      "\u001b[1;36m  Cell \u001b[1;32mIn[4], line 1\u001b[1;36m\u001b[0m\n\u001b[1;33m    raw_data = \"C:\\Users\\Sudhanshu\\Desktop\\python\"\u001b[0m\n\u001b[1;37m                                                  ^\u001b[0m\n\u001b[1;31mSyntaxError\u001b[0m\u001b[1;31m:\u001b[0m (unicode error) 'unicodeescape' codec can't decode bytes in position 2-3: truncated \\UXXXXXXXX escape\n"
     ]
    }
   ],
   "source": [
    "raw_data = \"C:\\Users\\Sudhanshu\\Desktop\\python\"\n",
    "print(raw_data)"
   ]
  },
  {
   "cell_type": "code",
   "execution_count": 5,
   "id": "adaca600",
   "metadata": {},
   "outputs": [
    {
     "name": "stdout",
     "output_type": "stream",
     "text": [
      "C:\\Users\\Sudhanshu\\Desktop\\python\n"
     ]
    }
   ],
   "source": [
    "raw_data = r\"C:\\Users\\Sudhanshu\\Desktop\\python\"\n",
    "print(raw_data)"
   ]
  },
  {
   "cell_type": "code",
   "execution_count": 6,
   "id": "5571f6e0",
   "metadata": {},
   "outputs": [
    {
     "name": "stdout",
     "output_type": "stream",
     "text": [
      "C:\\Users\\Sudhanshu\\Desktop\\python\n"
     ]
    }
   ],
   "source": [
    "raw_data = \"C:\\\\Users\\\\Sudhanshu\\\\Desktop\\\\python\"\n",
    "print(raw_data)"
   ]
  },
  {
   "cell_type": "code",
   "execution_count": 7,
   "id": "aa745856",
   "metadata": {},
   "outputs": [
    {
     "name": "stdout",
     "output_type": "stream",
     "text": [
      "ὤ3\n"
     ]
    }
   ],
   "source": [
    "print(\"\\u1F643\")"
   ]
  },
  {
   "cell_type": "code",
   "execution_count": 8,
   "id": "daeb99c2",
   "metadata": {},
   "outputs": [
    {
     "name": "stdout",
     "output_type": "stream",
     "text": [
      "©\n"
     ]
    }
   ],
   "source": [
    "print(\"\\u00A9\") "
   ]
  },
  {
   "cell_type": "code",
   "execution_count": 9,
   "id": "6802b8e0",
   "metadata": {},
   "outputs": [
    {
     "name": "stdout",
     "output_type": "stream",
     "text": [
      "Δ\n"
     ]
    }
   ],
   "source": [
    "print(\"\\N{GREEK CAPITAL LETTER DELTA}\")  "
   ]
  },
  {
   "cell_type": "code",
   "execution_count": 10,
   "id": "2ca33fda",
   "metadata": {},
   "outputs": [
    {
     "name": "stdout",
     "output_type": "stream",
     "text": [
      "☃\n"
     ]
    }
   ],
   "source": [
    "print(\"\\N{SNOWMAN}\") "
   ]
  },
  {
   "cell_type": "code",
   "execution_count": 11,
   "id": "3cb7282a",
   "metadata": {},
   "outputs": [
    {
     "name": "stdout",
     "output_type": "stream",
     "text": [
      "☺\n"
     ]
    }
   ],
   "source": [
    "\n",
    "print(\"\\u263A\") "
   ]
  },
  {
   "cell_type": "code",
   "execution_count": 12,
   "id": "fab7be35",
   "metadata": {},
   "outputs": [
    {
     "data": {
      "text/plain": [
       "'my name is sudhanshu\\ni use to work for euron\\ni use to teach data'"
      ]
     },
     "execution_count": 12,
     "metadata": {},
     "output_type": "execute_result"
    }
   ],
   "source": [
    "\"\"\"my name is sudhanshu\n",
    "i use to work for euron\n",
    "i use to teach data\"\"\""
   ]
  },
  {
   "cell_type": "code",
   "execution_count": 13,
   "id": "d3874276",
   "metadata": {},
   "outputs": [
    {
     "data": {
      "text/plain": [
       "'my name is sudhanshui use to work for euroni use to teach data'"
      ]
     },
     "execution_count": 13,
     "metadata": {},
     "output_type": "execute_result"
    }
   ],
   "source": [
    "\"my name is sudhanshu\"\\\n",
    "\"i use to work for euron\"\\\n",
    "    \"i use to teach data\""
   ]
  },
  {
   "cell_type": "code",
   "execution_count": 14,
   "id": "7248a258",
   "metadata": {},
   "outputs": [
    {
     "name": "stdout",
     "output_type": "stream",
     "text": [
      "my name is vikas my age is 23 and my phone number is 1234567890\n"
     ]
    }
   ],
   "source": [
    "name = input(\"enter your name\")\n",
    "age = int(input(\"enter your age\"))\n",
    "phone = 1234567890\n",
    "\n",
    "print(f\"my name is {name} my age is {age} and my phone number is {phone}\") "
   ]
  },
  {
   "cell_type": "code",
   "execution_count": 15,
   "id": "85acc787",
   "metadata": {},
   "outputs": [
    {
     "name": "stdout",
     "output_type": "stream",
     "text": [
      "my name is 23 my age is vikas\n"
     ]
    }
   ],
   "source": [
    "print(\"my name is {} my age is {}\".format(age, name))"
   ]
  },
  {
   "cell_type": "code",
   "execution_count": 16,
   "id": "0c6ae19f",
   "metadata": {},
   "outputs": [
    {
     "name": "stdout",
     "output_type": "stream",
     "text": [
      "my name is vikas my age is 23\n"
     ]
    }
   ],
   "source": [
    "print(\"my name is {n} my age is {a}\".format(a =age, n = name))"
   ]
  },
  {
   "cell_type": "code",
   "execution_count": 17,
   "id": "0e9e0c25",
   "metadata": {},
   "outputs": [],
   "source": [
    "from string import Template"
   ]
  },
  {
   "cell_type": "code",
   "execution_count": 18,
   "id": "523bd096",
   "metadata": {},
   "outputs": [
    {
     "data": {
      "text/plain": [
       "'my name is vikas my age is 34'"
      ]
     },
     "execution_count": 18,
     "metadata": {},
     "output_type": "execute_result"
    }
   ],
   "source": [
    "Template(\"my name is $name my age is $age\").substitute(name = name, age = 34\n",
    "                                                       )"
   ]
  },
  {
   "cell_type": "code",
   "execution_count": 19,
   "id": "e4b86b0e",
   "metadata": {},
   "outputs": [],
   "source": [
    "email_template = Template(\"\"\"\n",
    "                          From:$sender\n",
    "                          To:$receiver\n",
    "                            Subject:$subject\n",
    "                            $body\n",
    "                          \"\"\")"
   ]
  },
  {
   "cell_type": "code",
   "execution_count": 20,
   "id": "6602975e",
   "metadata": {},
   "outputs": [
    {
     "data": {
      "text/plain": [
       "'\\n                          From:vikasjangid@gmail.com\\n                          To:sskuamr@gmail.com\\n                            Subject:test mail\\n                            this is a test mail\\n                          '"
      ]
     },
     "execution_count": 20,
     "metadata": {},
     "output_type": "execute_result"
    }
   ],
   "source": [
    "email_template.substitute(sender = input(\"enter a serder information\"),receiver=\"sskuamr@gmail.com\",\n",
    "                          subject=\"test mail\",body=\"this is a test mail\")"
   ]
  },
  {
   "cell_type": "code",
   "execution_count": 21,
   "id": "469b5573",
   "metadata": {},
   "outputs": [
    {
     "name": "stdout",
     "output_type": "stream",
     "text": [
      "The End\n"
     ]
    }
   ],
   "source": [
    "print(\"The End\")"
   ]
  }
 ],
 "metadata": {
  "kernelspec": {
   "display_name": "Python 3",
   "language": "python",
   "name": "python3"
  },
  "language_info": {
   "codemirror_mode": {
    "name": "ipython",
    "version": 3
   },
   "file_extension": ".py",
   "mimetype": "text/x-python",
   "name": "python",
   "nbconvert_exporter": "python",
   "pygments_lexer": "ipython3",
   "version": "3.10.0"
  }
 },
 "nbformat": 4,
 "nbformat_minor": 5
}
